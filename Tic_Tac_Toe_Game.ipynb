{
 "cells": [
  {
   "cell_type": "code",
   "execution_count": 3,
   "id": "9f1f568e",
   "metadata": {},
   "outputs": [],
   "source": [
    "from IPython.display import clear_output\n",
    "\n",
    "def display_board(board):\n",
    "    \n",
    "    print(board[7] + ' |' + board[8] + ' |' + board[9])\n",
    "    print('--' + '|' + '--' + '|' + '--')\n",
    "    \n",
    "    print(board[4] + ' |' + board[5] + ' |' + board[6])\n",
    "    print('--' + '|' + '--' + '|' + '--') \n",
    "    \n",
    "    print(board[1] + ' |' + board[2] + ' |' + board[3])"
   ]
  },
  {
   "cell_type": "code",
   "execution_count": null,
   "id": "05cf67ea",
   "metadata": {},
   "outputs": [],
   "source": [
    "test_board = ['#',' ',' ',' ',' ',' ',' ',' ',' ',' ']\n",
    "display_board(test_board)"
   ]
  },
  {
   "cell_type": "code",
   "execution_count": 4,
   "id": "c02f85f9",
   "metadata": {},
   "outputs": [],
   "source": [
    "def player_input():\n",
    "    \n",
    "    player_1 = ''\n",
    "    \n",
    "    while player_1 not in ['x', 'o']:\n",
    "        player_1 = input(\"Player 1: please pick a marker x or o : \")\n",
    "        if player_1 not in ['x', 'o']:\n",
    "            print(\"Invalid input, Please pick a marker x or o\")\n",
    "        \n",
    "        if player_1 == 'x':\n",
    "            player_2 = 'o' \n",
    "        else:\n",
    "            player_2 = 'x'\n",
    "            \n",
    "    return (player_1, player_2)"
   ]
  },
  {
   "cell_type": "code",
   "execution_count": null,
   "id": "a469c4ea",
   "metadata": {},
   "outputs": [],
   "source": [
    "player1_marker, player2_marker = player_input()\n",
    "print(\"player1: \",player1_marker)\n",
    "print(\"player2: \",player2_marker)"
   ]
  },
  {
   "cell_type": "code",
   "execution_count": 5,
   "id": "03da391b",
   "metadata": {},
   "outputs": [],
   "source": [
    "def place_marker(board, marker, position):\n",
    "    board[position] = marker"
   ]
  },
  {
   "cell_type": "code",
   "execution_count": null,
   "id": "2a56a4bb",
   "metadata": {},
   "outputs": [],
   "source": [
    "#place_marker(test_board,'$',8)\n",
    "place_marker(test_board,'x',1)\n",
    "place_marker(test_board,'x',2)\n",
    "place_marker(test_board,'x',3)\n",
    "\n",
    "place_marker(test_board,'x',4)\n",
    "place_marker(test_board,'x',5)\n",
    "place_marker(test_board,'x',6)\n",
    "\n",
    "place_marker(test_board,'x',7)\n",
    "place_marker(test_board,'x',8)\n",
    "place_marker(test_board,'x',9)\n",
    "\n",
    "display_board(test_board)"
   ]
  },
  {
   "cell_type": "code",
   "execution_count": 6,
   "id": "55e9d841",
   "metadata": {},
   "outputs": [],
   "source": [
    "def win_check(board, mark):\n",
    "    \n",
    "    if board[1] == board[2] == board[3] == mark:\n",
    "        print(\"Congratulation! You won the game\")\n",
    "        return True\n",
    "    elif board[4] == board[5] == board[6] == mark:\n",
    "        print(\"Congratulation! You won the game\")\n",
    "        return True\n",
    "    elif board[7] == board[8] == board[9] == mark:\n",
    "        print(\"Congratulation! You won the game\")\n",
    "        return True\n",
    "    elif board[1] == board[4] == board[7] == mark:\n",
    "        print(\"Congratulation! You won the game\")\n",
    "        return True\n",
    "    elif board[2] == board[5] == board[8] == mark:\n",
    "        print(\"Congratulation! You won the game\")\n",
    "        return True\n",
    "    elif board[3] == board[6] == board[9] == mark:\n",
    "        print(\"Congratulation! You won the game\")\n",
    "        return True\n",
    "    elif board[1] == board[5] == board[9] == mark:\n",
    "        print(\"Congratulation! You won the game\")\n",
    "        return True\n",
    "    elif board[3] == board[5] == board[7] == mark:\n",
    "        print(\"Congratulation! You won the game\")\n",
    "        return True\n",
    "    else:\n",
    "        return False\n"
   ]
  },
  {
   "cell_type": "code",
   "execution_count": null,
   "id": "d92a427e",
   "metadata": {},
   "outputs": [],
   "source": [
    "win_check(test_board,'x')"
   ]
  },
  {
   "cell_type": "code",
   "execution_count": 7,
   "id": "dd979f60",
   "metadata": {},
   "outputs": [],
   "source": [
    "from random import randint\n",
    "\n",
    "def choose_first(player1, player2):\n",
    "    first = randint(1,2)\n",
    "    print(f'Player {first} will go first')\n",
    "    \n",
    "    if first == 1:\n",
    "        return player1\n",
    "    else:\n",
    "        return player2"
   ]
  },
  {
   "cell_type": "code",
   "execution_count": null,
   "id": "8ef1d265",
   "metadata": {},
   "outputs": [],
   "source": [
    "start_player = choose_first(player1_marker, player2_marker)\n",
    "print(\"start_player: \", start_player)"
   ]
  },
  {
   "cell_type": "code",
   "execution_count": 8,
   "id": "90597042",
   "metadata": {},
   "outputs": [],
   "source": [
    "def switch_player(present_player):\n",
    "    if current_player == 'x':\n",
    "        return 'o'\n",
    "    else:\n",
    "        return 'x'"
   ]
  },
  {
   "cell_type": "code",
   "execution_count": null,
   "id": "b5e949ff",
   "metadata": {},
   "outputs": [],
   "source": [
    "switch_player(start_player)"
   ]
  },
  {
   "cell_type": "code",
   "execution_count": 9,
   "id": "ac741ade",
   "metadata": {},
   "outputs": [],
   "source": [
    "def ready_check():\n",
    "    \n",
    "    game_start = 'wrong'\n",
    "    \n",
    "    while game_start not in ['y','n']:\n",
    "        game_start = input(\"Are you ready to play? (y or n): \")\n",
    "        if game_start not in ['y','n']:\n",
    "            print(\"Invalid input, please Choose (y or n)\")\n",
    "            \n",
    "    if game_start == 'y':\n",
    "        return True\n",
    "    else:\n",
    "        return False\n",
    "    "
   ]
  },
  {
   "cell_type": "code",
   "execution_count": 22,
   "id": "acebdd9a",
   "metadata": {},
   "outputs": [
    {
     "name": "stdout",
     "output_type": "stream",
     "text": [
      "Are you ready to play? (y or n): n\n"
     ]
    },
    {
     "data": {
      "text/plain": [
       "False"
      ]
     },
     "execution_count": 22,
     "metadata": {},
     "output_type": "execute_result"
    }
   ],
   "source": [
    "ready_check()"
   ]
  },
  {
   "cell_type": "code",
   "execution_count": 10,
   "id": "cd2ae432",
   "metadata": {},
   "outputs": [],
   "source": [
    "def space_check(board, position):\n",
    "    \n",
    "    if board[position] == ' ':\n",
    "        return True\n",
    "    else:\n",
    "        return False"
   ]
  },
  {
   "cell_type": "code",
   "execution_count": null,
   "id": "0039150c",
   "metadata": {},
   "outputs": [],
   "source": [
    "space_check(test_board, 4)"
   ]
  },
  {
   "cell_type": "code",
   "execution_count": 11,
   "id": "d7e27552",
   "metadata": {},
   "outputs": [],
   "source": [
    "def full_board_check(board):\n",
    "    \n",
    "    if ' ' not in board:\n",
    "        return True\n",
    "    else:\n",
    "        return False"
   ]
  },
  {
   "cell_type": "code",
   "execution_count": null,
   "id": "632a5e78",
   "metadata": {},
   "outputs": [],
   "source": [
    "full_board_check(test_board)"
   ]
  },
  {
   "cell_type": "code",
   "execution_count": 15,
   "id": "5b8b7f43",
   "metadata": {},
   "outputs": [],
   "source": [
    "def player_choice(board):\n",
    "    \n",
    "    position = 0\n",
    "    \n",
    "    while position not in range(1,10):\n",
    "        position = int(input(\"Enter the position (1-9): \"))\n",
    "        if position not in range(1,10):\n",
    "            print(\"Invalid input, Please enter the position between 1 to 9\")\n",
    "    \n",
    "    if space_check(board, position):\n",
    "        return position\n",
    "    else:\n",
    "        if full_board_check(test_board):\n",
    "            print(\"Board Full. Game Over\")\n",
    "            return None \n",
    "        else:\n",
    "            print(\"The position is not available\")\n",
    "            return player_choice(test_board)\n",
    "            "
   ]
  },
  {
   "cell_type": "code",
   "execution_count": 65,
   "id": "6c3667e0",
   "metadata": {},
   "outputs": [
    {
     "name": "stdout",
     "output_type": "stream",
     "text": [
      "Enter the position (1-9): 1\n"
     ]
    },
    {
     "data": {
      "text/plain": [
       "1"
      ]
     },
     "execution_count": 65,
     "metadata": {},
     "output_type": "execute_result"
    }
   ],
   "source": [
    "player_choice(test_board)"
   ]
  },
  {
   "cell_type": "code",
   "execution_count": 13,
   "id": "09a54254",
   "metadata": {},
   "outputs": [],
   "source": [
    "def replay():\n",
    "    \n",
    "    repeat_game = 'wrong'\n",
    "    \n",
    "    while repeat_game not in ['y','n']:\n",
    "        repeat_game = input(\"Do you want to play again? (y or n): \")\n",
    "        if repeat_game not in ['y','n']:\n",
    "            print(\"Invalid input, please Choose (y or n)\")\n",
    "    if repeat_game == 'y':\n",
    "        return True\n",
    "    else:\n",
    "        return False"
   ]
  },
  {
   "cell_type": "code",
   "execution_count": null,
   "id": "22f90a3a",
   "metadata": {},
   "outputs": [],
   "source": [
    "replay()"
   ]
  },
  {
   "cell_type": "code",
   "execution_count": 17,
   "id": "4dbbc899",
   "metadata": {},
   "outputs": [
    {
     "name": "stdout",
     "output_type": "stream",
     "text": [
      "o |x |o\n",
      "--|--|--\n",
      "x |x |o\n",
      "--|--|--\n",
      "x |o |x\n",
      "Enter the position (1-9): 5\n",
      "Board Full. Game Over\n",
      "Do you want to play again? (y or n): n\n",
      "Okay, maybe next time!\n"
     ]
    }
   ],
   "source": [
    "print('Welcome to Tic Tac Toe!')\n",
    "\n",
    "play_game = True\n",
    "\n",
    "while play_game:\n",
    "    \n",
    "    #clear_output()\n",
    "    test_board = ['#',' ',' ',' ',' ',' ',' ',' ',' ',' ']\n",
    "    \n",
    "    if ready_check():\n",
    "        \n",
    "        clear_output()\n",
    "        \n",
    "        player1_marker, player2_marker = player_input()\n",
    "        start_player = choose_first(player1_marker, player2_marker)\n",
    "        current_player = start_player\n",
    "        \n",
    "        display_board(test_board)\n",
    "\n",
    "        replay_game = True\n",
    "\n",
    "        while replay_game:\n",
    "\n",
    "            position = player_choice(test_board)\n",
    "            if position == None:\n",
    "                play_game = replay()\n",
    "                break\n",
    "            else:\n",
    "                place_marker(test_board,current_player,position)\n",
    "    \n",
    "                clear_output()    \n",
    "                display_board(test_board)\n",
    "    \n",
    "                if win_check(test_board,current_player):\n",
    "                    play_game = replay()\n",
    "                    break\n",
    "        \n",
    "                current_player = switch_player(start_player) \n",
    "    else:\n",
    "        play_game = False\n",
    "        #print(\"Okay, maybe next time!\")\n",
    "else:\n",
    "    print(\"Okay, maybe next time!\")"
   ]
  },
  {
   "cell_type": "code",
   "execution_count": null,
   "id": "a0ad75d3",
   "metadata": {},
   "outputs": [],
   "source": []
  }
 ],
 "metadata": {
  "kernelspec": {
   "display_name": "Python 3 (ipykernel)",
   "language": "python",
   "name": "python3"
  },
  "language_info": {
   "codemirror_mode": {
    "name": "ipython",
    "version": 3
   },
   "file_extension": ".py",
   "mimetype": "text/x-python",
   "name": "python",
   "nbconvert_exporter": "python",
   "pygments_lexer": "ipython3",
   "version": "3.11.5"
  }
 },
 "nbformat": 4,
 "nbformat_minor": 5
}
